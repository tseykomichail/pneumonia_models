{
  "nbformat": 4,
  "nbformat_minor": 0,
  "metadata": {
    "colab": {
      "provenance": []
    },
    "kernelspec": {
      "name": "python3",
      "display_name": "Python 3"
    },
    "language_info": {
      "name": "python"
    }
  },
  "cells": [
    {
      "cell_type": "code",
      "execution_count": 1,
      "metadata": {
        "id": "UNL5eRZYNkph"
      },
      "outputs": [],
      "source": [
        "import tensorflow as tf"
      ]
    },
    {
      "cell_type": "code",
      "source": [
        "model = tf.keras.models.load_model('InceptionV3.keras')"
      ],
      "metadata": {
        "id": "bTAKco_zNldb"
      },
      "execution_count": 3,
      "outputs": []
    },
    {
      "cell_type": "code",
      "source": [
        "import pickle\n",
        "with open(\"calibration_InceptionV3.pkl\", \"rb\") as file:\n",
        "  calibration = pickle.load(file)"
      ],
      "metadata": {
        "colab": {
          "base_uri": "https://localhost:8080/"
        },
        "id": "Np8xlO-JESxz",
        "outputId": "fa6188de-381c-4ee9-cc32-4ac7a06df500"
      },
      "execution_count": 4,
      "outputs": [
        {
          "output_type": "stream",
          "name": "stderr",
          "text": [
            "/usr/local/lib/python3.10/dist-packages/sklearn/base.py:348: InconsistentVersionWarning: Trying to unpickle estimator LogisticRegression from version 1.2.2 when using version 1.3.2. This might lead to breaking code or invalid results. Use at your own risk. For more info please refer to:\n",
            "https://scikit-learn.org/stable/model_persistence.html#security-maintainability-limitations\n",
            "  warnings.warn(\n"
          ]
        }
      ]
    },
    {
      "cell_type": "code",
      "source": [
        "!pip install pydicom"
      ],
      "metadata": {
        "colab": {
          "base_uri": "https://localhost:8080/"
        },
        "id": "1TcV55xSP4z2",
        "outputId": "0e89ecd5-f760-425d-dd81-b48ed46a70ef"
      },
      "execution_count": 5,
      "outputs": [
        {
          "output_type": "stream",
          "name": "stdout",
          "text": [
            "Collecting pydicom\n",
            "  Downloading pydicom-2.4.4-py3-none-any.whl.metadata (7.8 kB)\n",
            "Downloading pydicom-2.4.4-py3-none-any.whl (1.8 MB)\n",
            "\u001b[2K   \u001b[90m━━━━━━━━━━━━━━━━━━━━━━━━━━━━━━━━━━━━━━━━\u001b[0m \u001b[32m1.8/1.8 MB\u001b[0m \u001b[31m18.4 MB/s\u001b[0m eta \u001b[36m0:00:00\u001b[0m\n",
            "\u001b[?25hInstalling collected packages: pydicom\n",
            "Successfully installed pydicom-2.4.4\n"
          ]
        }
      ]
    },
    {
      "cell_type": "code",
      "source": [
        "!mkdir lib"
      ],
      "metadata": {
        "id": "rPliRnioQJJd"
      },
      "execution_count": 6,
      "outputs": []
    },
    {
      "cell_type": "code",
      "source": [
        "!mkdir lib/somelib"
      ],
      "metadata": {
        "id": "VqhUZTuDSBcO"
      },
      "execution_count": 7,
      "outputs": []
    },
    {
      "cell_type": "code",
      "source": [
        "import os\n",
        "import shutil\n",
        "shutil.move('0004cfab-14fd-4e49-80ba-63a80b6bddd6.dcm', 'lib/somelib/0004cfab-14fd-4e49-80ba-63a80b6bddd6.dcm')\n",
        "shutil.move('000924cf-0f8d-42bd-9158-1af53881a557.dcm', 'lib/somelib//000924cf-0f8d-42bd-9158-1af53881a557.dcm')"
      ],
      "metadata": {
        "colab": {
          "base_uri": "https://localhost:8080/",
          "height": 35
        },
        "id": "XMLY-0ULQMpL",
        "outputId": "f636c784-9357-461d-d555-9c8a6d4de366"
      },
      "execution_count": 8,
      "outputs": [
        {
          "output_type": "execute_result",
          "data": {
            "text/plain": [
              "'lib/somelib//000924cf-0f8d-42bd-9158-1af53881a557.dcm'"
            ],
            "application/vnd.google.colaboratory.intrinsic+json": {
              "type": "string"
            }
          },
          "metadata": {},
          "execution_count": 8
        }
      ]
    },
    {
      "cell_type": "code",
      "source": [
        "from tqdm import tqdm\n",
        "import pydicom\n",
        "from PIL import Image\n",
        "import os\n",
        "import shutil\n",
        "\n",
        "def convert_dicom_to_jpeg(input_folder, output_folder):\n",
        "    for filename in tqdm(os.listdir(input_folder)):\n",
        "        if filename.endswith('.dcm'):\n",
        "            dicom_file = os.path.join(input_folder, filename)\n",
        "            dicom_data = pydicom.dcmread(dicom_file)\n",
        "\n",
        "            image_array = dicom_data.pixel_array\n",
        "            jpeg_file = os.path.splitext(filename)[0] + '.jpeg'\n",
        "            jpeg_path = os.path.join(output_folder, jpeg_file)\n",
        "            image = Image.fromarray(image_array)\n",
        "            image.save(jpeg_path, \"JPEG\")\n",
        "convert_dicom_to_jpeg('lib/somelib', 'lib/somelib')\n"
      ],
      "metadata": {
        "colab": {
          "base_uri": "https://localhost:8080/"
        },
        "id": "Gv8x28aHNlf4",
        "outputId": "e3d8ec5d-f94c-4961-f1a9-f7fbc0a7f88e"
      },
      "execution_count": 9,
      "outputs": [
        {
          "output_type": "stream",
          "name": "stderr",
          "text": [
            "100%|██████████| 2/2 [00:00<00:00, 57.53it/s]\n"
          ]
        }
      ]
    },
    {
      "cell_type": "code",
      "source": [
        "from tensorflow.keras.preprocessing.image import ImageDataGenerator\n",
        "test_datagen = ImageDataGenerator()#rescale=1./255)\n",
        "test_generator = test_datagen.flow_from_directory(\n",
        "        'lib',\n",
        "        target_size=(256, 256),\n",
        "        batch_size=2,\n",
        "        class_mode='binary',\n",
        "        shuffle=False)\n"
      ],
      "metadata": {
        "colab": {
          "base_uri": "https://localhost:8080/"
        },
        "id": "Vt3sdoL5NliY",
        "outputId": "5bd5f8ee-b9f8-4f70-e679-63571af03e31"
      },
      "execution_count": 10,
      "outputs": [
        {
          "output_type": "stream",
          "name": "stdout",
          "text": [
            "Found 2 images belonging to 1 classes.\n"
          ]
        }
      ]
    },
    {
      "cell_type": "code",
      "source": [
        "def predict(photos) :\n",
        "    predictions=model.predict(photos)\n",
        "    calibrated_probabilities=calibration.predict_proba(predictions)[:, 1]\n",
        "    return calibrated_probabilities"
      ],
      "metadata": {
        "id": "qAtOfvXgEPlK"
      },
      "execution_count": 11,
      "outputs": []
    },
    {
      "cell_type": "code",
      "source": [
        "pred=predict(test_generator)"
      ],
      "metadata": {
        "colab": {
          "base_uri": "https://localhost:8080/"
        },
        "id": "QtxK13d2Nlki",
        "outputId": "529b9182-b227-4b5d-ce38-73073d8a9c17"
      },
      "execution_count": 12,
      "outputs": [
        {
          "output_type": "stream",
          "name": "stderr",
          "text": [
            "/usr/local/lib/python3.10/dist-packages/keras/src/trainers/data_adapters/py_dataset_adapter.py:121: UserWarning: Your `PyDataset` class should call `super().__init__(**kwargs)` in its constructor. `**kwargs` can include `workers`, `use_multiprocessing`, `max_queue_size`. Do not pass these arguments to `fit()`, as they will be ignored.\n",
            "  self._warn_if_super_not_called()\n"
          ]
        },
        {
          "output_type": "stream",
          "name": "stdout",
          "text": [
            "\u001b[1m1/1\u001b[0m \u001b[32m━━━━━━━━━━━━━━━━━━━━\u001b[0m\u001b[37m\u001b[0m \u001b[1m8s\u001b[0m 8s/step\n"
          ]
        }
      ]
    },
    {
      "cell_type": "code",
      "source": [
        "print(pred)"
      ],
      "metadata": {
        "colab": {
          "base_uri": "https://localhost:8080/"
        },
        "id": "TUnMw_YpNlm0",
        "outputId": "26161537-85b9-4121-db68-9b7adf4aae16"
      },
      "execution_count": 13,
      "outputs": [
        {
          "output_type": "stream",
          "name": "stdout",
          "text": [
            "[0.0957279  0.14263269]\n"
          ]
        }
      ]
    },
    {
      "cell_type": "code",
      "source": [
        "test_generator.filenames"
      ],
      "metadata": {
        "colab": {
          "base_uri": "https://localhost:8080/"
        },
        "id": "YD03niLpSXg9",
        "outputId": "5bb67b07-db33-4274-c0e6-05e92b2863f9"
      },
      "execution_count": 14,
      "outputs": [
        {
          "output_type": "execute_result",
          "data": {
            "text/plain": [
              "['somelib/0004cfab-14fd-4e49-80ba-63a80b6bddd6.jpeg',\n",
              " 'somelib/000924cf-0f8d-42bd-9158-1af53881a557.jpeg']"
            ]
          },
          "metadata": {},
          "execution_count": 14
        }
      ]
    },
    {
      "cell_type": "code",
      "source": [],
      "metadata": {
        "id": "ftteqbF5Nlpe"
      },
      "execution_count": null,
      "outputs": []
    },
    {
      "cell_type": "code",
      "source": [],
      "metadata": {
        "id": "LTlp0LLoNlqw"
      },
      "execution_count": null,
      "outputs": []
    }
  ]
}